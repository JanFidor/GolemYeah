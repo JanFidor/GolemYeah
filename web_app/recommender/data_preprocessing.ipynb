{
 "cells": [
  {
   "cell_type": "code",
   "execution_count": 1,
   "metadata": {},
   "outputs": [],
   "source": [
    "import pandas as pd\n",
    "import os"
   ]
  },
  {
   "cell_type": "code",
   "execution_count": 2,
   "metadata": {},
   "outputs": [
    {
     "data": {
      "text/plain": "                  kategoria                                nazwa  \\\n0  kierunki administracyjne                       administracja    \n1  kierunki administracyjne            administracja europejska    \n2  kierunki administracyjne          administracja i cyfryzacja    \n3  kierunki administracyjne  administracja i polityka publiczna    \n4  kierunki administracyjne         administracja i zarządzanie    \n\n                                                opis  \\\n0  Studia na kierunku administracja mają na celu ...   \n1  Studia na kierunku Administracja europejska pr...   \n2  Kierunek Administracja i cyfryzacja ma charakt...   \n3  Administracja i polityka publiczna to kierunek...   \n4  Międzykierunkowe studia na Administracji i zar...   \n\n                                            dla_kogo  \\\n0  Studia na administracji wybierają osoby, które...   \n1  Studia adresowane są do osób intersujących się...   \n2  To kierunek odpowiedni dla osób zainteresowany...   \n3  Administracja polityka publiczna to kierunek d...   \n4  Kierunki administracyjne to dobra propozycja d...   \n\n                                 program_ksztalcenia  \\\n0  Program studiów na kierunku administracja prze...   \n1  W programie studiów znajdziemy takie przedmiot...   \n2  Przykładowe przedmioty na kierunku administrac...   \n3  W programie studiów są m.in takie przedmioty:p...   \n4  Studenci realizujący studia na makrokierunku a...   \n\n                                przedmioty_maturalne  \\\n0  Rekrutacja na , administrację,  odbywa się na ...   \n1  O przyjęciu na studia decyduje kolejność zgłos...   \n2  Kandydat na kierunek administracja i cyfryzacj...   \n3  Uwzględniane są następujące przedmioty:, język...   \n4  Zasady rekrutacji należy sprawdzać na stronach...   \n\n                                         perspektywy  \\\n0  Dla absolwentów administracji miejsca pracy pr...   \n1  Studia na tym kierunku przygotowują do pracy w...   \n2  Absolwent Administracji i cyfryzacji jest przy...   \n3  Absolwenci studiów mogą pracować w:, instytucj...   \n4  Absolwent makrokierunku administracja i zarząd...   \n\n                                   kierunki_pokrewne  \n0  administracja europejska , administracja i cyf...  \n1  administracja , administracja i cyfryzacja , a...  \n2  administracja , administracja europejska , adm...  \n3  administracja , administracja europejska , adm...  \n4  administracja , administracja europejska , adm...  ",
      "text/html": "<div>\n<style scoped>\n    .dataframe tbody tr th:only-of-type {\n        vertical-align: middle;\n    }\n\n    .dataframe tbody tr th {\n        vertical-align: top;\n    }\n\n    .dataframe thead th {\n        text-align: right;\n    }\n</style>\n<table border=\"1\" class=\"dataframe\">\n  <thead>\n    <tr style=\"text-align: right;\">\n      <th></th>\n      <th>kategoria</th>\n      <th>nazwa</th>\n      <th>opis</th>\n      <th>dla_kogo</th>\n      <th>program_ksztalcenia</th>\n      <th>przedmioty_maturalne</th>\n      <th>perspektywy</th>\n      <th>kierunki_pokrewne</th>\n    </tr>\n  </thead>\n  <tbody>\n    <tr>\n      <th>0</th>\n      <td>kierunki administracyjne</td>\n      <td>administracja</td>\n      <td>Studia na kierunku administracja mają na celu ...</td>\n      <td>Studia na administracji wybierają osoby, które...</td>\n      <td>Program studiów na kierunku administracja prze...</td>\n      <td>Rekrutacja na , administrację,  odbywa się na ...</td>\n      <td>Dla absolwentów administracji miejsca pracy pr...</td>\n      <td>administracja europejska , administracja i cyf...</td>\n    </tr>\n    <tr>\n      <th>1</th>\n      <td>kierunki administracyjne</td>\n      <td>administracja europejska</td>\n      <td>Studia na kierunku Administracja europejska pr...</td>\n      <td>Studia adresowane są do osób intersujących się...</td>\n      <td>W programie studiów znajdziemy takie przedmiot...</td>\n      <td>O przyjęciu na studia decyduje kolejność zgłos...</td>\n      <td>Studia na tym kierunku przygotowują do pracy w...</td>\n      <td>administracja , administracja i cyfryzacja , a...</td>\n    </tr>\n    <tr>\n      <th>2</th>\n      <td>kierunki administracyjne</td>\n      <td>administracja i cyfryzacja</td>\n      <td>Kierunek Administracja i cyfryzacja ma charakt...</td>\n      <td>To kierunek odpowiedni dla osób zainteresowany...</td>\n      <td>Przykładowe przedmioty na kierunku administrac...</td>\n      <td>Kandydat na kierunek administracja i cyfryzacj...</td>\n      <td>Absolwent Administracji i cyfryzacji jest przy...</td>\n      <td>administracja , administracja europejska , adm...</td>\n    </tr>\n    <tr>\n      <th>3</th>\n      <td>kierunki administracyjne</td>\n      <td>administracja i polityka publiczna</td>\n      <td>Administracja i polityka publiczna to kierunek...</td>\n      <td>Administracja polityka publiczna to kierunek d...</td>\n      <td>W programie studiów są m.in takie przedmioty:p...</td>\n      <td>Uwzględniane są następujące przedmioty:, język...</td>\n      <td>Absolwenci studiów mogą pracować w:, instytucj...</td>\n      <td>administracja , administracja europejska , adm...</td>\n    </tr>\n    <tr>\n      <th>4</th>\n      <td>kierunki administracyjne</td>\n      <td>administracja i zarządzanie</td>\n      <td>Międzykierunkowe studia na Administracji i zar...</td>\n      <td>Kierunki administracyjne to dobra propozycja d...</td>\n      <td>Studenci realizujący studia na makrokierunku a...</td>\n      <td>Zasady rekrutacji należy sprawdzać na stronach...</td>\n      <td>Absolwent makrokierunku administracja i zarząd...</td>\n      <td>administracja , administracja europejska , adm...</td>\n    </tr>\n  </tbody>\n</table>\n</div>"
     },
     "execution_count": 2,
     "metadata": {},
     "output_type": "execute_result"
    }
   ],
   "source": [
    "df = pd.read_csv(os.path.join(os.path.curdir, \"data\", \"kierunki_studiow.csv\"))\n",
    "\n",
    "df.head()"
   ]
  },
  {
   "cell_type": "code",
   "execution_count": 3,
   "outputs": [
    {
     "name": "stderr",
     "output_type": "stream",
     "text": [
      "[nltk_data] Downloading package punkt to\n",
      "[nltk_data]     C:\\Users\\z\\AppData\\Roaming\\nltk_data...\n",
      "[nltk_data]   Unzipping tokenizers\\punkt.zip.\n"
     ]
    },
    {
     "data": {
      "text/plain": "                                         description  \\\n0  [nazwa, kierunku, administracja, opis, kierunk...   \n1  [nazwa, kierunku, administracja, europejska, o...   \n2  [nazwa, kierunku, administracja, cyfryzacja, o...   \n3  [nazwa, kierunku, administracja, polityka, pub...   \n4  [nazwa, kierunku, administracja, zarządzanie, ...   \n\n                                target  \n0                       administracja   \n1            administracja europejska   \n2          administracja i cyfryzacja   \n3  administracja i polityka publiczna   \n4         administracja i zarządzanie   ",
      "text/html": "<div>\n<style scoped>\n    .dataframe tbody tr th:only-of-type {\n        vertical-align: middle;\n    }\n\n    .dataframe tbody tr th {\n        vertical-align: top;\n    }\n\n    .dataframe thead th {\n        text-align: right;\n    }\n</style>\n<table border=\"1\" class=\"dataframe\">\n  <thead>\n    <tr style=\"text-align: right;\">\n      <th></th>\n      <th>description</th>\n      <th>target</th>\n    </tr>\n  </thead>\n  <tbody>\n    <tr>\n      <th>0</th>\n      <td>[nazwa, kierunku, administracja, opis, kierunk...</td>\n      <td>administracja</td>\n    </tr>\n    <tr>\n      <th>1</th>\n      <td>[nazwa, kierunku, administracja, europejska, o...</td>\n      <td>administracja europejska</td>\n    </tr>\n    <tr>\n      <th>2</th>\n      <td>[nazwa, kierunku, administracja, cyfryzacja, o...</td>\n      <td>administracja i cyfryzacja</td>\n    </tr>\n    <tr>\n      <th>3</th>\n      <td>[nazwa, kierunku, administracja, polityka, pub...</td>\n      <td>administracja i polityka publiczna</td>\n    </tr>\n    <tr>\n      <th>4</th>\n      <td>[nazwa, kierunku, administracja, zarządzanie, ...</td>\n      <td>administracja i zarządzanie</td>\n    </tr>\n  </tbody>\n</table>\n</div>"
     },
     "execution_count": 3,
     "metadata": {},
     "output_type": "execute_result"
    }
   ],
   "source": [
    "from data_preprocessing_utils import description_target_df\n",
    "\n",
    "new_df = description_target_df(df)\n",
    "new_df.head()"
   ],
   "metadata": {
    "collapsed": false
   }
  },
  {
   "cell_type": "code",
   "execution_count": 3,
   "outputs": [],
   "source": [],
   "metadata": {
    "collapsed": false
   }
  }
 ],
 "metadata": {
  "kernelspec": {
   "display_name": "Python 3",
   "language": "python",
   "name": "python3"
  },
  "language_info": {
   "codemirror_mode": {
    "name": "ipython",
    "version": 3
   },
   "file_extension": ".py",
   "mimetype": "text/x-python",
   "name": "python",
   "nbconvert_exporter": "python",
   "pygments_lexer": "ipython3",
   "version": "3.9.9"
  },
  "orig_nbformat": 4
 },
 "nbformat": 4,
 "nbformat_minor": 2
}
