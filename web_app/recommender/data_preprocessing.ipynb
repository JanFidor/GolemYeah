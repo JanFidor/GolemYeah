{
 "cells": [
  {
   "cell_type": "code",
   "execution_count": 4,
   "metadata": {},
   "outputs": [],
   "source": [
    "import pandas as pd\n",
    "import os"
   ]
  },
  {
   "cell_type": "code",
   "execution_count": 5,
   "metadata": {},
   "outputs": [
    {
     "data": {
      "text/plain": "                               target  \\\n0                       administracja   \n1            administracja europejska   \n2          administracja i cyfryzacja   \n3  administracja i polityka publiczna   \n4         administracja i zarządzanie   \n\n                                         description  \n0  studia kierunku administracja celu przygotowan...  \n1  studia kierunku administracja europejska przyg...  \n2  kierunek administracja cyfryzacja charakter in...  \n3  administracja polityka publiczna kierunek stud...  \n4  międzykierunkowe studia administracji zarządza...  ",
      "text/html": "<div>\n<style scoped>\n    .dataframe tbody tr th:only-of-type {\n        vertical-align: middle;\n    }\n\n    .dataframe tbody tr th {\n        vertical-align: top;\n    }\n\n    .dataframe thead th {\n        text-align: right;\n    }\n</style>\n<table border=\"1\" class=\"dataframe\">\n  <thead>\n    <tr style=\"text-align: right;\">\n      <th></th>\n      <th>target</th>\n      <th>description</th>\n    </tr>\n  </thead>\n  <tbody>\n    <tr>\n      <th>0</th>\n      <td>administracja</td>\n      <td>studia kierunku administracja celu przygotowan...</td>\n    </tr>\n    <tr>\n      <th>1</th>\n      <td>administracja europejska</td>\n      <td>studia kierunku administracja europejska przyg...</td>\n    </tr>\n    <tr>\n      <th>2</th>\n      <td>administracja i cyfryzacja</td>\n      <td>kierunek administracja cyfryzacja charakter in...</td>\n    </tr>\n    <tr>\n      <th>3</th>\n      <td>administracja i polityka publiczna</td>\n      <td>administracja polityka publiczna kierunek stud...</td>\n    </tr>\n    <tr>\n      <th>4</th>\n      <td>administracja i zarządzanie</td>\n      <td>międzykierunkowe studia administracji zarządza...</td>\n    </tr>\n  </tbody>\n</table>\n</div>"
     },
     "execution_count": 5,
     "metadata": {},
     "output_type": "execute_result"
    }
   ],
   "source": [
    "df = pd.read_csv(os.path.join(os.path.curdir, \"data\", \"kierunki_studiow_short.csv\"))\n",
    "\n",
    "df.head()"
   ]
  },
  {
   "cell_type": "code",
   "execution_count": 6,
   "outputs": [
    {
     "data": {
      "text/plain": "2230"
     },
     "execution_count": 6,
     "metadata": {},
     "output_type": "execute_result"
    }
   ],
   "source": [
    "df['description'].apply(lambda x: len(x.split())).idxmin()\n",
    "len(list(df.iterrows()))"
   ],
   "metadata": {
    "collapsed": false
   }
  }
 ],
 "metadata": {
  "kernelspec": {
   "display_name": "Python 3",
   "language": "python",
   "name": "python3"
  },
  "language_info": {
   "codemirror_mode": {
    "name": "ipython",
    "version": 3
   },
   "file_extension": ".py",
   "mimetype": "text/x-python",
   "name": "python",
   "nbconvert_exporter": "python",
   "pygments_lexer": "ipython3",
   "version": "3.9.9"
  },
  "orig_nbformat": 4
 },
 "nbformat": 4,
 "nbformat_minor": 2
}
